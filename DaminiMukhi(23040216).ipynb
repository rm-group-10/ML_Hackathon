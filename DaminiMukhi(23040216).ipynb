{
  "nbformat": 4,
  "nbformat_minor": 0,
  "metadata": {
    "colab": {
      "provenance": []
    },
    "kernelspec": {
      "name": "python3",
      "display_name": "Python 3"
    },
    "language_info": {
      "name": "python"
    }
  },
  "cells": [
    {
      "cell_type": "code",
      "execution_count": null,
      "metadata": {
        "id": "t3PesQxuOWM0"
      },
      "outputs": [],
      "source": [
        "# alpha values used in GridSearch\n",
        "alphas = [0.001, 0.01, 0.1, 1, 10, 100]\n",
        "f1_scores = []\n",
        "\n",
        "# F1 scores for each alpha\n",
        "for alpha in alphas:\n",
        "    ridge = Ridge(alpha=alpha)\n",
        "    ridge.fit(X_train, y_train)\n",
        "    y_pred = ridge.predict(X_test)\n",
        "    y_pred_binary = (y_pred >= 0.5).astype(int)\n",
        "    f1 = f1_score(y_test, y_pred_binary)\n",
        "    f1_scores.append(f1)\n",
        "\n",
        "# Plot F1 Score vs Alpha\n",
        "plt.figure(figsize=(8, 5))\n",
        "plt.plot(alphas, f1_scores, marker='o', linestyle='-', color='royalblue', linewidth=2)\n",
        "plt.xscale('log')\n",
        "plt.title('F1 Score vs Ridge Alpha', fontsize=14)\n",
        "plt.xlabel('Alpha (log scale)', fontsize=12)\n",
        "plt.ylabel('F1 Score', fontsize=12)\n",
        "plt.grid(True, linestyle='--', alpha=0.6)\n",
        "plt.show()\n"
      ]
    },
    {
      "cell_type": "code",
      "source": [
        "# Visualization Style\n",
        "sns.set(style=\"whitegrid\")\n",
        "plt.rcParams[\"figure.figsize\"] = (8, 5)"
      ],
      "metadata": {
        "id": "m4tSiVbUOmvD"
      },
      "execution_count": null,
      "outputs": []
    },
    {
      "cell_type": "code",
      "source": [
        "# Target Variable Distribution\n",
        "plt.figure()\n",
        "sns.countplot(data=df, x=\"h1n1_vaccine\", palette=\"Set2\")\n",
        "plt.title(\"H1N1 Vaccine Uptake\")\n",
        "plt.xlabel(\"Vaccinated (1) vs Not Vaccinated (0)\")\n",
        "plt.ylabel(\"Count\")\n",
        "plt.show()"
      ],
      "metadata": {
        "id": "6QJJ3pxhOmzK"
      },
      "execution_count": null,
      "outputs": []
    },
    {
      "cell_type": "code",
      "source": [
        "# Numeric Feature Distributions\n",
        "numeric_cols = df.select_dtypes(include=[\"float64\", \"int64\"]).columns.drop(\n",
        "    [\"respondent_id\", \"h1n1_vaccine\"], errors=\"ignore\"\n",
        ")\n",
        "\n",
        "df[numeric_cols].hist(figsize=(16, 14), bins=20, color=\"skyblue\", edgecolor=\"black\")\n",
        "plt.suptitle(\"Distribution of Numeric Features\", fontsize=16)\n",
        "plt.show()"
      ],
      "metadata": {
        "id": "J_txYJhkOm4I"
      },
      "execution_count": null,
      "outputs": []
    },
    {
      "cell_type": "code",
      "source": [
        "# Categorical Features vs Vaccination\n",
        "categorical_cols = df.select_dtypes(include=[\"object\"]).columns\n",
        "\n",
        "for col in categorical_cols:\n",
        "    plt.figure(figsize=(8, 5))\n",
        "    sns.countplot(data=df, x=col, hue=\"h1n1_vaccine\", palette=\"Set2\")\n",
        "    plt.title(f\"Vaccination by {col}\")\n",
        "    plt.xlabel(col)\n",
        "    plt.ylabel(\"Count\")\n",
        "    plt.xticks(rotation=45, ha=\"right\")\n",
        "    plt.tight_layout()\n",
        "    plt.show()"
      ],
      "metadata": {
        "id": "upa4UP-HPDeW"
      },
      "execution_count": null,
      "outputs": []
    },
    {
      "cell_type": "code",
      "source": [
        "# Correlation Heatmap\n",
        "plt.figure(figsize=(12, 10))\n",
        "corr = df[numeric_cols.union([\"h1n1_vaccine\"])].corr()\n",
        "sns.heatmap(corr, annot=False, cmap=\"coolwarm\", center=0)\n",
        "plt.title(\"Correlation Heatmap (Numeric Features)\")\n",
        "plt.show()\n"
      ],
      "metadata": {
        "id": "yW3ZBadjPDiM"
      },
      "execution_count": null,
      "outputs": []
    },
    {
      "cell_type": "code",
      "source": [
        "import matplotlib.pyplot as plt\n",
        "import numpy as np\n",
        "from sklearn.metrics import f1_score\n",
        "\n",
        "# --- Compute F1 score for each alpha manually ---\n",
        "alphas = [0.001, 0.01, 0.1, 1, 10, 100]\n",
        "f1_scores = []\n",
        "\n",
        "for alpha in alphas:\n",
        "    ridge = Ridge(alpha=alpha)\n",
        "    ridge.fit(X_train, y_train)\n",
        "    y_pred = ridge.predict(X_test)\n",
        "    y_pred_binary = (y_pred >= 0.5).astype(int)\n",
        "    f1 = f1_score(y_test, y_pred_binary)\n",
        "    f1_scores.append(f1)\n",
        "\n",
        "# --- Plot F1 scores ---\n",
        "plt.figure(figsize=(8, 5))\n",
        "plt.plot(alphas, f1_scores, marker='o', linestyle='-', color='mediumseagreen')\n",
        "plt.xscale('log')\n",
        "plt.title(\"F1 Score vs Ridge Alpha\")\n",
        "plt.xlabel(\"Alpha (log scale)\")\n",
        "plt.ylabel(\"F1 Score\")\n",
        "plt.grid(True, linestyle='--', alpha=0.6)\n",
        "plt.show()\n",
        "\n",
        "# Optional: print the best alpha based on F1\n",
        "best_alpha_f1 = alphas[np.argmax(f1_scores)]\n",
        "print(f\"Best alpha based on F1 Score: {best_alpha_f1}\")\n",
        "print(f\"Highest F1 Score: {max(f1_scores):.4f}\")\n"
      ],
      "metadata": {
        "id": "IPp6sJDiPP_5"
      },
      "execution_count": null,
      "outputs": []
    },
    {
      "cell_type": "code",
      "source": [
        "# BEFORE CLEANING\n",
        "print(\"===== BEFORE CLEANING =====\")\n",
        "print(df.info())\n",
        "print(\"\\nMissing values per column:\\n\", df.isnull().sum())\n",
        "\n",
        "# PIE CHART (Before Cleaning)\n",
        "vaccine_counts = df[\"h1n1_vaccine\"].value_counts()\n",
        "labels = [\"Not Vaccinated (0)\", \"Vaccinated (1)\"]\n",
        "\n",
        "plt.figure(figsize=(6, 6))\n",
        "plt.pie(\n",
        "    vaccine_counts,\n",
        "    labels=labels,\n",
        "    autopct=\"%1.1f%%\",\n",
        "    startangle=90,\n",
        "    colors=[\"lightcoral\", \"lightgreen\"],\n",
        "    explode=(0.05, 0)\n",
        ")\n",
        "plt.title(\"H1N1 Vaccine Uptake (Before Cleaning)\")\n",
        "plt.show()\n",
        "\n",
        "# --- HISTOGRAM (Before Cleaning) ---\n",
        "plt.figure(figsize=(8, 5))\n",
        "sns.histplot(df[\"h1n1_concern\"], bins=10, kde=True, color=\"skyblue\")\n",
        "plt.title(\"Distribution of H1N1 Concern (Before Cleaning)\")\n",
        "plt.xlabel(\"H1N1 Concern\")\n",
        "plt.ylabel(\"Frequency\")\n",
        "plt.show()\n",
        "\n",
        "# DATA CLEANING\n",
        "\n",
        "# Fill numeric NaN with median\n",
        "for col in df.select_dtypes(include=[\"float64\", \"int64\"]).columns:\n",
        "    df[col].fillna(df[col].median(), inplace=True)\n",
        "\n",
        "# Fill categorical NaN with mode\n",
        "for col in df.select_dtypes(include=[\"object\"]).columns:\n",
        "    df[col].fillna(df[col].mode()[0], inplace=True)\n",
        "\n",
        "# Encode categorical variables using LabelEncoder\n",
        "label_encoders = {}\n",
        "for col in df.select_dtypes(include=[\"object\"]).columns:\n",
        "    le = LabelEncoder()\n",
        "    df[col] = le.fit_transform(df[col])\n",
        "    label_encoders[col] = le\n",
        "\n",
        "# Remove outliers using IQR (Interquartile Range)\n",
        "numeric_cols = df.select_dtypes(include=[\"float64\", \"int64\"]).columns.drop([\"respondent_id\"], errors=\"ignore\")\n",
        "\n",
        "for col in numeric_cols:\n",
        "    Q1 = df[col].quantile(0.25)\n",
        "    Q3 = df[col].quantile(0.75)\n",
        "    IQR = Q3 - Q1\n",
        "    lower = Q1 - 1.5 * IQR\n",
        "    upper = Q3 + 1.5 * IQR\n",
        "    df = df[(df[col] >= lower) & (df[col] <= upper)]\n",
        "\n",
        "# AFTER CLEANING\n",
        "\n",
        "print(\"\\n===== AFTER CLEANING =====\")\n",
        "print(df.info())\n",
        "print(\"\\nMissing values per column:\\n\", df.isnull().sum())\n",
        "print(\"\\nShape after cleaning:\", df.shape)\n",
        "\n",
        "# PIE CHART (After Cleaning)\n",
        "vaccine_counts_clean = df[\"h1n1_vaccine\"].value_counts()\n",
        "\n",
        "plt.figure(figsize=(6, 6))\n",
        "plt.pie(\n",
        "    vaccine_counts_clean,\n",
        "    labels=labels,\n",
        "    autopct=\"%1.1f%%\",\n",
        "    startangle=90,\n",
        "    colors=[\"lightcoral\", \"lightgreen\"],\n",
        "    explode=(0.05, 0)\n",
        ")\n",
        "plt.title(\"H1N1 Vaccine Uptake (After Cleaning)\")\n",
        "plt.show()\n",
        "\n",
        "# HISTOGRAM (After Cleaning)\n",
        "plt.figure(figsize=(8, 5))\n",
        "sns.histplot(df[\"h1n1_concern\"], bins=10, kde=True, color=\"mediumseagreen\")\n",
        "plt.title(\"Distribution of H1N1 Concern (After Cleaning)\")\n",
        "plt.xlabel(\"H1N1 Concern\")\n",
        "plt.ylabel(\"Frequency\")\n",
        "plt.show()\n"
      ],
      "metadata": {
        "id": "TgbtPXYPPSZy"
      },
      "execution_count": null,
      "outputs": []
    }
  ]
}